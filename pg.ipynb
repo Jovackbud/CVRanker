{
 "cells": [
  {
   "cell_type": "code",
   "id": "initial_id",
   "metadata": {
    "collapsed": true,
    "ExecuteTime": {
     "end_time": "2024-09-07T15:34:40.441312Z",
     "start_time": "2024-09-07T15:34:26.813420Z"
    }
   },
   "source": [
    "from transformers import pipeline\n",
    "# import pdfplumber"
   ],
   "outputs": [],
   "execution_count": 1
  },
  {
   "metadata": {
    "ExecuteTime": {
     "end_time": "2024-09-07T15:34:46.129126Z",
     "start_time": "2024-09-07T15:34:46.118492Z"
    }
   },
   "cell_type": "code",
   "source": [
    "def extract_text_from_pdf(pdf_path):\n",
    "    with pdfplumber.open(pdf_path) as pdf:\n",
    "        text = ''\n",
    "        for page in pdf.pages:\n",
    "            text += page.extract_text()\n",
    "    return text"
   ],
   "id": "4c9dd1a2f0e624bd",
   "outputs": [],
   "execution_count": 2
  },
  {
   "metadata": {
    "ExecuteTime": {
     "end_time": "2024-08-28T08:35:56.354600Z",
     "start_time": "2024-08-28T08:35:56.352417Z"
    }
   },
   "cell_type": "code",
   "source": [
    "cv_texts = []\n",
    "cv_files = ['cv1.pdf', 'cv2.pdf', 'cv3.pdf']  # List your CV PDF file paths here"
   ],
   "id": "9ba78aa68b42bfe8",
   "outputs": [],
   "execution_count": null
  },
  {
   "metadata": {},
   "cell_type": "code",
   "source": [
    "for cv_file in cv_files:\n",
    "    cv_text = extract_text_from_pdf(cv_file)\n",
    "    cv_texts.append(cv_text)"
   ],
   "id": "73b9ab2d8fe43872",
   "outputs": [],
   "execution_count": null
  },
  {
   "metadata": {},
   "cell_type": "code",
   "outputs": [],
   "execution_count": null,
   "source": [
    "# Extract text from the JD PDF\n",
    "jd_text = extract_text_from_pdf('job_description.pdf')"
   ],
   "id": "55d350393253d002"
  }
 ],
 "metadata": {
  "kernelspec": {
   "display_name": "Python 3",
   "language": "python",
   "name": "python3"
  },
  "language_info": {
   "codemirror_mode": {
    "name": "ipython",
    "version": 2
   },
   "file_extension": ".py",
   "mimetype": "text/x-python",
   "name": "python",
   "nbconvert_exporter": "python",
   "pygments_lexer": "ipython2",
   "version": "2.7.6"
  }
 },
 "nbformat": 4,
 "nbformat_minor": 5
}
